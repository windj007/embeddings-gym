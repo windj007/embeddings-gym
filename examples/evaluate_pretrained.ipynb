{
 "cells": [
  {
   "cell_type": "markdown",
   "metadata": {
    "collapsed": true
   },
   "source": [
    "# Evaluate some pretrained embeddings against implemented evaluations"
   ]
  },
  {
   "cell_type": "code",
   "execution_count": 3,
   "metadata": {
    "ExecuteTime": {
     "end_time": "2017-12-22T09:55:31.515122Z",
     "start_time": "2017-12-22T09:55:29.988754Z"
    }
   },
   "outputs": [
    {
     "name": "stdout",
     "output_type": "stream",
     "text": [
      "Requirement already up-to-date: patool in /root/.pyenv/versions/3.6.0/lib/python3.6/site-packages\r\n"
     ]
    }
   ],
   "source": [
    "# !pip install -U patool"
   ]
  },
  {
   "cell_type": "code",
   "execution_count": 7,
   "metadata": {
    "ExecuteTime": {
     "end_time": "2017-12-22T13:57:11.843961Z",
     "start_time": "2017-12-22T13:57:11.811484Z"
    }
   },
   "outputs": [
    {
     "name": "stdout",
     "output_type": "stream",
     "text": [
      "The autoreload extension is already loaded. To reload it, use:\n",
      "  %reload_ext autoreload\n"
     ]
    }
   ],
   "source": [
    "%load_ext autoreload\n",
    "%autoreload 2\n",
    "\n",
    "import sys\n",
    "sys.path.append('/notebook')\n",
    "\n",
    "import embegym\n",
    "import patoolib\n",
    "import gensim"
   ]
  },
  {
   "cell_type": "code",
   "execution_count": null,
   "metadata": {
    "ExecuteTime": {
     "start_time": "2017-12-22T13:57:45.501Z"
    }
   },
   "outputs": [],
   "source": [
    "# add more pretrained models from URLS:\n",
    "# http://vsmlib.readthedocs.io/en/latest/tutorial/getting_vectors.html#pre-trained-vsms\n",
    "# https://github.com/3Top/word2vec-api\n",
    "\n",
    "# embegym.utils.io.download_if_not_exists('https://s3-us-west-1.amazonaws.com/fasttext-vectors/wiki.en.zip',\n",
    "#                                         './models/fasttext-wiki.en.zip')\n",
    "# patoolib.extract_archive('./models/fasttext-wiki.en.zip', outdir='./models/fasttext-wiki.en')\n",
    "# fasttext_wiki = embegym.models.gensim_wrappers.import_pretrained_fasttext('./models/fasttext-wiki.en/wiki.en',\n",
    "#                                                                           './models/fasttext-wiki.en/wiki.en.gensim')\n",
    "# del fasttext_wiki\n",
    "\n",
    "# embegym.utils.io.download_if_not_exists('https://drive.google.com/file/d/0B7XkCwpI5KDYNlNUTTlSS21pQmM/edit?usp=sharing',\n",
    "#                                         './models/GoogleNews-vectors-negative300.bin.gz')\n",
    "# patoolib.extract_archive('./models/GoogleNews-vectors-negative300.bin.gz',\n",
    "#                          outdir='./models/')\n",
    "# w2v_gnews_ns300 = embegym.models.gensim_wrappers.import_pretrained_word2vec('./models/GoogleNews-vectors-negative300.bin',\n",
    "#                                                                             './models/GoogleNews-vectors-negative300.gensim')\n",
    "# del w2v_gnews_ns300\n",
    "\n",
    "# embegym.utils.io.download_if_not_exists('http://nlp.stanford.edu/data/glove.840B.300d.zip',\n",
    "#                                         './models/glove.840B.300d.zip')\n",
    "# patoolib.extract_archive('./models/glove.840B.300d.zip',\n",
    "#                          outdir='./models/glove.840B.300d')\n",
    "gensim.scripts.glove2word2vec.glove2word2vec('./models/glove.840B.300d/glove.840B.300d.txt',\n",
    "                                             './models/glove.840B.300d/glove.840B.300d.w2v')\n",
    "glove_840b_300 = embegym.models.gensim_wrappers.import_pretrained_word2vec('./models/glove.840B.300d/glove.840B.300d.w2v',\n",
    "                                                                           './models/glove.840B.300d/glove.840B.300d.gensim',\n",
    "                                                                           binary=False)\n",
    "del glove_840b_300"
   ]
  },
  {
   "cell_type": "code",
   "execution_count": 2,
   "metadata": {
    "ExecuteTime": {
     "end_time": "2017-12-22T12:53:19.953709Z",
     "start_time": "2017-12-22T12:51:56.132310Z"
    }
   },
   "outputs": [],
   "source": [
    "fasttext_wiki_en = embegym.models.gensim_wrappers.GensimKeyedVectors.load('./models/fasttext-wiki.en/wiki.en.gensim', mmap='r')"
   ]
  },
  {
   "cell_type": "code",
   "execution_count": null,
   "metadata": {
    "ExecuteTime": {
     "start_time": "2017-12-22T10:47:48.059Z"
    }
   },
   "outputs": [],
   "source": [
    "evaluation = embegym.evaluation.make_full_evaluation_en(n_jobs=1)\n",
    "eval_result = evaluation(fasttext_wiki=fasttext_wiki_en)\n",
    "eval_result"
   ]
  }
 ],
 "metadata": {
  "kernelspec": {
   "display_name": "Python 3",
   "language": "python",
   "name": "python3"
  },
  "language_info": {
   "codemirror_mode": {
    "name": "ipython",
    "version": 3
   },
   "file_extension": ".py",
   "mimetype": "text/x-python",
   "name": "python",
   "nbconvert_exporter": "python",
   "pygments_lexer": "ipython3",
   "version": "3.6.0"
  },
  "notify_time": "10",
  "toc": {
   "colors": {
    "hover_highlight": "#DAA520",
    "running_highlight": "#FF0000",
    "selected_highlight": "#FFD700"
   },
   "moveMenuLeft": true,
   "nav_menu": {
    "height": "45px",
    "width": "252px"
   },
   "navigate_menu": true,
   "number_sections": true,
   "sideBar": true,
   "threshold": 4,
   "toc_cell": false,
   "toc_section_display": "block",
   "toc_window_display": false
  }
 },
 "nbformat": 4,
 "nbformat_minor": 1
}
