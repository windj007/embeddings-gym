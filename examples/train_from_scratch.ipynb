{
 "cells": [
  {
   "cell_type": "markdown",
   "metadata": {},
   "source": [
    "# Train some models from scratch and evaluate them"
   ]
  },
  {
   "cell_type": "code",
   "execution_count": 1,
   "metadata": {
    "ExecuteTime": {
     "end_time": "2018-02-28T21:46:28.710402Z",
     "start_time": "2018-02-28T21:46:06.034893Z"
    }
   },
   "outputs": [
    {
     "name": "stdout",
     "output_type": "stream",
     "text": [
      "[nltk_data] Downloading package punkt to /root/nltk_data...\n",
      "[nltk_data]   Package punkt is already up-to-date!\n",
      "[nltk_data] Downloading package stopwords to /root/nltk_data...\n",
      "[nltk_data]   Package stopwords is already up-to-date!\n"
     ]
    },
    {
     "name": "stderr",
     "output_type": "stream",
     "text": [
      "/notebook/embegym/evaluation/similarities.py:40: FutureWarning: Conversion of the second argument of issubdtype from `(<class 'float'>, <class 'int'>)` to `np.floating` is deprecated. In future, it will be treated as `np.float64 == np.dtype((<class 'float'>, <class 'int'>)).type`.\n",
      "  if numpy.issubdtype(self._gold_data[col].dtype, (float, int))]\n",
      "2018-02-28 21:46:28,667 - INFO - logger set up\n"
     ]
    },
    {
     "data": {
      "text/plain": [
       "<RootLogger root (DEBUG)>"
      ]
     },
     "execution_count": 1,
     "metadata": {},
     "output_type": "execute_result"
    }
   ],
   "source": [
    "%load_ext autoreload\n",
    "%load_ext line_profiler\n",
    "%load_ext cython\n",
    "%autoreload 2\n",
    "\n",
    "import sys, logging\n",
    "sys.path.append('/notebook')\n",
    "\n",
    "import embegym\n",
    "from embegym.data.base import *\n",
    "from embegym.data.wiki import *\n",
    "\n",
    "embegym.utils.logger.setupLogger()"
   ]
  },
  {
   "cell_type": "markdown",
   "metadata": {},
   "source": [
    "## Download and preprocess English Wikipedia"
   ]
  },
  {
   "cell_type": "code",
   "execution_count": 2,
   "metadata": {
    "ExecuteTime": {
     "end_time": "2018-02-28T21:46:28.742320Z",
     "start_time": "2018-02-28T21:46:28.715381Z"
    }
   },
   "outputs": [],
   "source": [
    "# embegym.utils.io.download_if_not_exists('https://dumps.wikimedia.org/enwiki/latest/enwiki-latest-pages-articles.xml.bz2',\n",
    "#                                         './data/enwiki-latest-pages-articles.xml.bz2')\n",
    "# cache_corpus_to_pickle(Wikipedia('./data/enwiki-latest-pages-articles.xml.bz2'),\n",
    "#                        './data/enwiki_full_docs.pickle')"
   ]
  },
  {
   "cell_type": "code",
   "execution_count": 3,
   "metadata": {
    "ExecuteTime": {
     "end_time": "2018-02-28T21:46:28.791855Z",
     "start_time": "2018-02-28T21:46:28.744179Z"
    }
   },
   "outputs": [],
   "source": [
    "enwiki_full_docs = PickleCorpus('./data/enwiki_full_docs.pickle', verbose=1)\n",
    "# enwiki_full_docs = LimitedCorpus(enwiki_full_docs, 100)\n",
    "# TEST_TXT = '''\n",
    "# мама мыть рама\n",
    "# рама стоять окно\n",
    "# папа мыть машина\n",
    "# окно стоять дом\n",
    "# гараж стоять дом\n",
    "# мама жить дом\n",
    "# папа жить дом\n",
    "# мама жить папа\n",
    "# '''\n",
    "# enwiki_full_docs = [s.strip().split(' ') for s in TEST_TXT.strip().split('\\n') if s.strip()]"
   ]
  },
  {
   "cell_type": "code",
   "execution_count": 4,
   "metadata": {
    "ExecuteTime": {
     "end_time": "2018-02-28T21:46:28.859578Z",
     "start_time": "2018-02-28T21:46:28.794042Z"
    }
   },
   "outputs": [
    {
     "data": {
      "application/vnd.jupyter.widget-view+json": {
       "model_id": "4e6795c34a054bbd8b5f471ad076d0dc",
       "version_major": 2,
       "version_minor": 0
      },
      "text/html": [
       "<p>Failed to display Jupyter Widget of type <code>HBox</code>.</p>\n",
       "<p>\n",
       "  If you're reading this message in the Jupyter Notebook or JupyterLab Notebook, it may mean\n",
       "  that the widgets JavaScript is still loading. If this message persists, it\n",
       "  likely means that the widgets JavaScript library is either not installed or\n",
       "  not enabled. See the <a href=\"https://ipywidgets.readthedocs.io/en/stable/user_install.html\">Jupyter\n",
       "  Widgets Documentation</a> for setup instructions.\n",
       "</p>\n",
       "<p>\n",
       "  If you're reading this message in another frontend (for example, a static\n",
       "  rendering on GitHub or <a href=\"https://nbviewer.jupyter.org/\">NBViewer</a>),\n",
       "  it may mean that your frontend doesn't currently support widgets.\n",
       "</p>\n"
      ],
      "text/plain": [
       "HBox(children=(IntProgress(value=0, max=5063314), HTML(value='')))"
      ]
     },
     "metadata": {},
     "output_type": "display_data"
    },
    {
     "name": "stdout",
     "output_type": "stream",
     "text": [
      "\n"
     ]
    }
   ],
   "source": [
    "enwiki_full_docs_sliding_window = SlidingWindow(enwiki_full_docs, left_ctx_size=3, right_ctx_size=3, verbose=0)"
   ]
  },
  {
   "cell_type": "markdown",
   "metadata": {},
   "source": [
    "## Train Word2Vec using Gensim"
   ]
  },
  {
   "cell_type": "code",
   "execution_count": 5,
   "metadata": {
    "ExecuteTime": {
     "end_time": "2018-02-28T21:46:28.894898Z",
     "start_time": "2018-02-28T21:46:28.861255Z"
    },
    "scrolled": true
   },
   "outputs": [],
   "source": [
    "# gensim_w2v = embegym.models.gensim_wrappers.GensimWord2Vec()\n",
    "# gensim_w2v.train(enwiki_full_docs)\n",
    "# gensim_w2v.save('./models/enwiki_w2v_our.gensim')"
   ]
  },
  {
   "cell_type": "code",
   "execution_count": 6,
   "metadata": {
    "ExecuteTime": {
     "end_time": "2018-02-28T21:46:28.935688Z",
     "start_time": "2018-02-28T21:46:28.897939Z"
    }
   },
   "outputs": [],
   "source": [
    "# gensim_w2v.get_most_similar(gensim_w2v.get_word_vector('mother'))"
   ]
  },
  {
   "cell_type": "code",
   "execution_count": 22,
   "metadata": {
    "ExecuteTime": {
     "end_time": "2018-03-01T09:45:34.242576Z",
     "start_time": "2018-03-01T09:45:32.885979Z"
    }
   },
   "outputs": [
    {
     "name": "stderr",
     "output_type": "stream",
     "text": [
      "2018-03-01 09:45:32,910 - INFO - loading Word2Vec object from ./models/enwiki_w2v_our.gensim\n",
      "2018-03-01 09:45:33,596 - INFO - loading wv recursively from ./models/enwiki_w2v_our.gensim.wv.* with mmap=None\n",
      "2018-03-01 09:45:33,597 - INFO - loading vectors from ./models/enwiki_w2v_our.gensim.wv.vectors.npy with mmap=None\n",
      "2018-03-01 09:45:33,642 - INFO - setting ignored attribute vectors_norm to None\n",
      "2018-03-01 09:45:33,643 - INFO - loading vocabulary recursively from ./models/enwiki_w2v_our.gensim.vocabulary.* with mmap=None\n",
      "2018-03-01 09:45:33,644 - INFO - loading trainables recursively from ./models/enwiki_w2v_our.gensim.trainables.* with mmap=None\n",
      "2018-03-01 09:45:33,645 - INFO - loading syn1neg from ./models/enwiki_w2v_our.gensim.trainables.syn1neg.npy with mmap=None\n",
      "2018-03-01 09:45:33,687 - INFO - setting ignored attribute cum_table to None\n",
      "2018-03-01 09:45:33,688 - INFO - loaded ./models/enwiki_w2v_our.gensim\n"
     ]
    }
   ],
   "source": [
    "gensim_w2v = embegym.models.gensim_wrappers.GensimWord2Vec.load('./models/enwiki_w2v_our.gensim')"
   ]
  },
  {
   "cell_type": "markdown",
   "metadata": {},
   "source": [
    "## Train Word2Vec using PyTorch"
   ]
  },
  {
   "cell_type": "code",
   "execution_count": 7,
   "metadata": {
    "ExecuteTime": {
     "end_time": "2018-02-28T21:46:28.975800Z",
     "start_time": "2018-02-28T21:46:28.938652Z"
    }
   },
   "outputs": [],
   "source": [
    "# vocab = embegym.models.vocab.Vocabulary(max_words_final=500000,\n",
    "#                                         min_count=5)\n",
    "# embegym.models.vocab.build_vocab_from_dicts_default(vocab, enwiki_full_docs_sliding_window)\n",
    "# embegym.utils.io.default_save(vocab, './models/enwiki_vocab_500k_5.p')"
   ]
  },
  {
   "cell_type": "code",
   "execution_count": 8,
   "metadata": {
    "ExecuteTime": {
     "end_time": "2018-02-28T21:46:30.379237Z",
     "start_time": "2018-02-28T21:46:28.978059Z"
    }
   },
   "outputs": [],
   "source": [
    "vocab = embegym.utils.io.default_load('./models/enwiki_vocab_500k_5.p')"
   ]
  },
  {
   "cell_type": "code",
   "execution_count": 9,
   "metadata": {
    "ExecuteTime": {
     "end_time": "2018-02-28T21:46:30.416102Z",
     "start_time": "2018-02-28T21:46:30.381035Z"
    }
   },
   "outputs": [],
   "source": [
    "def train_my_sgns():\n",
    "    pt_w2v_sg_ns = embegym.models.pytorch.word2vec.Word2VecSgNs(vector_size=100,\n",
    "                                                                vocabulary=vocab,\n",
    "                                                                cuda=True,\n",
    "                                                                negative=5,\n",
    "                                                                vocab_min_count=5,\n",
    "                                                                verbose=1,\n",
    "                                                                epochs=1)\n",
    "    pt_w2v_sg_ns.train(enwiki_full_docs_sliding_window)\n",
    "    pt_w2v_sg_ns.save('./models/enwiki_pt_w2v_sg_ns_our')"
   ]
  },
  {
   "cell_type": "code",
   "execution_count": 11,
   "metadata": {
    "ExecuteTime": {
     "end_time": "2018-03-01T09:40:17.296431Z",
     "start_time": "2018-02-28T21:46:30.442410Z"
    }
   },
   "outputs": [
    {
     "name": "stderr",
     "output_type": "stream",
     "text": [
      "2018-02-28 21:46:30,463 - INFO - Init model\n"
     ]
    },
    {
     "data": {
      "application/vnd.jupyter.widget-view+json": {
       "model_id": "a99952637bdc42ea97bd0f3af14164b3",
       "version_major": 2,
       "version_minor": 0
      },
      "text/html": [
       "<p>Failed to display Jupyter Widget of type <code>HBox</code>.</p>\n",
       "<p>\n",
       "  If you're reading this message in the Jupyter Notebook or JupyterLab Notebook, it may mean\n",
       "  that the widgets JavaScript is still loading. If this message persists, it\n",
       "  likely means that the widgets JavaScript library is either not installed or\n",
       "  not enabled. See the <a href=\"https://ipywidgets.readthedocs.io/en/stable/user_install.html\">Jupyter\n",
       "  Widgets Documentation</a> for setup instructions.\n",
       "</p>\n",
       "<p>\n",
       "  If you're reading this message in another frontend (for example, a static\n",
       "  rendering on GitHub or <a href=\"https://nbviewer.jupyter.org/\">NBViewer</a>),\n",
       "  it may mean that your frontend doesn't currently support widgets.\n",
       "</p>\n"
      ],
      "text/plain": [
       "HBox(children=(IntProgress(value=0, max=5063314), HTML(value='')))"
      ]
     },
     "metadata": {},
     "output_type": "display_data"
    },
    {
     "name": "stderr",
     "output_type": "stream",
     "text": [
      "2018-03-01 09:40:14,103 - INFO - Training interrupted\n"
     ]
    }
   ],
   "source": [
    "# %%prun -s cumulative\n",
    "train_my_sgns()"
   ]
  },
  {
   "cell_type": "code",
   "execution_count": 18,
   "metadata": {
    "ExecuteTime": {
     "end_time": "2018-03-01T09:41:14.150399Z",
     "start_time": "2018-03-01T09:41:14.102834Z"
    }
   },
   "outputs": [
    {
     "data": {
      "text/plain": [
       "[('kill', 1.0),\n",
       " ('commandos', 0.5561842),\n",
       " ('apron', 0.53814065),\n",
       " ('police', 0.5342139),\n",
       " ('supernatural', 0.5275886),\n",
       " ('taser', 0.5275283),\n",
       " ('meanwhile', 0.52602595),\n",
       " ('guatemalan', 0.5211158),\n",
       " ('murder', 0.5175985),\n",
       " ('fanny', 0.51558536)]"
      ]
     },
     "execution_count": 18,
     "metadata": {},
     "output_type": "execute_result"
    }
   ],
   "source": [
    "pt_w2v_sg_ns.get_most_similar(pt_w2v_sg_ns.get_word_vector('kill'))"
   ]
  },
  {
   "cell_type": "code",
   "execution_count": 13,
   "metadata": {
    "ExecuteTime": {
     "end_time": "2018-03-01T09:40:30.359655Z",
     "start_time": "2018-03-01T09:40:28.666915Z"
    }
   },
   "outputs": [],
   "source": [
    "pt_w2v_sg_ns = embegym.models.pytorch.word2vec.Word2VecSgNs.load('./models/enwiki_pt_w2v_sg_ns_our')"
   ]
  },
  {
   "cell_type": "markdown",
   "metadata": {},
   "source": [
    "## Evaluate the newly trained models"
   ]
  },
  {
   "cell_type": "code",
   "execution_count": 19,
   "metadata": {
    "ExecuteTime": {
     "end_time": "2018-03-01T09:43:04.356677Z",
     "start_time": "2018-03-01T09:43:04.330893Z"
    }
   },
   "outputs": [],
   "source": [
    "evaluation = embegym.evaluation.make_evaluation('SimLex999', 'GoogleAnalogies')"
   ]
  },
  {
   "cell_type": "code",
   "execution_count": 23,
   "metadata": {
    "ExecuteTime": {
     "end_time": "2018-03-01T09:46:18.311444Z",
     "start_time": "2018-03-01T09:45:39.132617Z"
    }
   },
   "outputs": [],
   "source": [
    "eval_result = evaluation(gensim_w2v=gensim_w2v,\n",
    "                         pt_w2v_sg_ns=pt_w2v_sg_ns)"
   ]
  },
  {
   "cell_type": "code",
   "execution_count": 24,
   "metadata": {
    "ExecuteTime": {
     "end_time": "2018-03-01T09:46:18.354973Z",
     "start_time": "2018-03-01T09:46:18.314900Z"
    }
   },
   "outputs": [
    {
     "data": {
      "text/html": [
       "<div>\n",
       "<style scoped>\n",
       "    .dataframe tbody tr th:only-of-type {\n",
       "        vertical-align: middle;\n",
       "    }\n",
       "\n",
       "    .dataframe tbody tr th {\n",
       "        vertical-align: top;\n",
       "    }\n",
       "\n",
       "    .dataframe thead th {\n",
       "        text-align: right;\n",
       "    }\n",
       "</style>\n",
       "<table border=\"1\" class=\"dataframe\">\n",
       "  <thead>\n",
       "    <tr style=\"text-align: right;\">\n",
       "      <th></th>\n",
       "      <th></th>\n",
       "      <th>gensim_w2v</th>\n",
       "      <th>pt_w2v_sg_ns</th>\n",
       "    </tr>\n",
       "  </thead>\n",
       "  <tbody>\n",
       "    <tr>\n",
       "      <th rowspan=\"27\" valign=\"top\">GoogleAnalogies</th>\n",
       "      <th>capital-common-countries @1</th>\n",
       "      <td>NaN</td>\n",
       "      <td>0.005929</td>\n",
       "    </tr>\n",
       "    <tr>\n",
       "      <th>capital-common-countries @5</th>\n",
       "      <td>0.003953</td>\n",
       "      <td>0.023715</td>\n",
       "    </tr>\n",
       "    <tr>\n",
       "      <th>capital-world @1</th>\n",
       "      <td>NaN</td>\n",
       "      <td>0.000442</td>\n",
       "    </tr>\n",
       "    <tr>\n",
       "      <th>capital-world @5</th>\n",
       "      <td>0.002653</td>\n",
       "      <td>0.006410</td>\n",
       "    </tr>\n",
       "    <tr>\n",
       "      <th>city-in-state @5</th>\n",
       "      <td>0.017025</td>\n",
       "      <td>NaN</td>\n",
       "    </tr>\n",
       "    <tr>\n",
       "      <th>family @1</th>\n",
       "      <td>0.002381</td>\n",
       "      <td>NaN</td>\n",
       "    </tr>\n",
       "    <tr>\n",
       "      <th>family @5</th>\n",
       "      <td>0.019048</td>\n",
       "      <td>0.002381</td>\n",
       "    </tr>\n",
       "    <tr>\n",
       "      <th>gram1-adjective-to-adverb @1</th>\n",
       "      <td>0.002151</td>\n",
       "      <td>NaN</td>\n",
       "    </tr>\n",
       "    <tr>\n",
       "      <th>gram1-adjective-to-adverb @5</th>\n",
       "      <td>0.013978</td>\n",
       "      <td>NaN</td>\n",
       "    </tr>\n",
       "    <tr>\n",
       "      <th>gram2-opposite @1</th>\n",
       "      <td>0.001232</td>\n",
       "      <td>NaN</td>\n",
       "    </tr>\n",
       "    <tr>\n",
       "      <th>gram2-opposite @5</th>\n",
       "      <td>0.004926</td>\n",
       "      <td>NaN</td>\n",
       "    </tr>\n",
       "    <tr>\n",
       "      <th>gram3-comparative @5</th>\n",
       "      <td>0.003754</td>\n",
       "      <td>NaN</td>\n",
       "    </tr>\n",
       "    <tr>\n",
       "      <th>gram5-present-participle @1</th>\n",
       "      <td>0.011089</td>\n",
       "      <td>NaN</td>\n",
       "    </tr>\n",
       "    <tr>\n",
       "      <th>gram5-present-participle @5</th>\n",
       "      <td>0.155242</td>\n",
       "      <td>NaN</td>\n",
       "    </tr>\n",
       "    <tr>\n",
       "      <th>gram6-nationality-adjective @5</th>\n",
       "      <td>NaN</td>\n",
       "      <td>0.003127</td>\n",
       "    </tr>\n",
       "    <tr>\n",
       "      <th>gram7-past-tense @1</th>\n",
       "      <td>0.003205</td>\n",
       "      <td>NaN</td>\n",
       "    </tr>\n",
       "    <tr>\n",
       "      <th>gram7-past-tense @5</th>\n",
       "      <td>0.033333</td>\n",
       "      <td>0.002564</td>\n",
       "    </tr>\n",
       "    <tr>\n",
       "      <th>gram8-plural @1</th>\n",
       "      <td>0.010511</td>\n",
       "      <td>0.000751</td>\n",
       "    </tr>\n",
       "    <tr>\n",
       "      <th>gram8-plural @5</th>\n",
       "      <td>0.093093</td>\n",
       "      <td>0.004505</td>\n",
       "    </tr>\n",
       "    <tr>\n",
       "      <th>micro-mean @1</th>\n",
       "      <td>0.001854</td>\n",
       "      <td>0.000326</td>\n",
       "    </tr>\n",
       "    <tr>\n",
       "      <th>micro-mean @5</th>\n",
       "      <td>0.022685</td>\n",
       "      <td>0.003097</td>\n",
       "    </tr>\n",
       "    <tr>\n",
       "      <th>morphological @1</th>\n",
       "      <td>0.007724</td>\n",
       "      <td>0.000257</td>\n",
       "    </tr>\n",
       "    <tr>\n",
       "      <th>morphological @5</th>\n",
       "      <td>0.084964</td>\n",
       "      <td>0.002575</td>\n",
       "    </tr>\n",
       "    <tr>\n",
       "      <th>semantic @1</th>\n",
       "      <td>0.000115</td>\n",
       "      <td>0.000573</td>\n",
       "    </tr>\n",
       "    <tr>\n",
       "      <th>semantic @5</th>\n",
       "      <td>0.007335</td>\n",
       "      <td>0.004814</td>\n",
       "    </tr>\n",
       "    <tr>\n",
       "      <th>syntactic @1</th>\n",
       "      <td>0.000524</td>\n",
       "      <td>0.000000</td>\n",
       "    </tr>\n",
       "    <tr>\n",
       "      <th>syntactic @5</th>\n",
       "      <td>0.003840</td>\n",
       "      <td>0.000863</td>\n",
       "    </tr>\n",
       "    <tr>\n",
       "      <th rowspan=\"5\" valign=\"top\">SimLex999</th>\n",
       "      <th>Assoc(USF)</th>\n",
       "      <td>0.303414</td>\n",
       "      <td>0.121656</td>\n",
       "    </tr>\n",
       "    <tr>\n",
       "      <th>SD(SimLex)</th>\n",
       "      <td>0.004529</td>\n",
       "      <td>0.004153</td>\n",
       "    </tr>\n",
       "    <tr>\n",
       "      <th>SimLex999</th>\n",
       "      <td>0.290432</td>\n",
       "      <td>0.108370</td>\n",
       "    </tr>\n",
       "    <tr>\n",
       "      <th>conc(w1)</th>\n",
       "      <td>0.003866</td>\n",
       "      <td>0.032516</td>\n",
       "    </tr>\n",
       "    <tr>\n",
       "      <th>conc(w2)</th>\n",
       "      <td>-0.001712</td>\n",
       "      <td>0.033601</td>\n",
       "    </tr>\n",
       "  </tbody>\n",
       "</table>\n",
       "</div>"
      ],
      "text/plain": [
       "                                                gensim_w2v  pt_w2v_sg_ns\n",
       "GoogleAnalogies capital-common-countries @1            NaN      0.005929\n",
       "                capital-common-countries @5       0.003953      0.023715\n",
       "                capital-world @1                       NaN      0.000442\n",
       "                capital-world @5                  0.002653      0.006410\n",
       "                city-in-state @5                  0.017025           NaN\n",
       "                family @1                         0.002381           NaN\n",
       "                family @5                         0.019048      0.002381\n",
       "                gram1-adjective-to-adverb @1      0.002151           NaN\n",
       "                gram1-adjective-to-adverb @5      0.013978           NaN\n",
       "                gram2-opposite @1                 0.001232           NaN\n",
       "                gram2-opposite @5                 0.004926           NaN\n",
       "                gram3-comparative @5              0.003754           NaN\n",
       "                gram5-present-participle @1       0.011089           NaN\n",
       "                gram5-present-participle @5       0.155242           NaN\n",
       "                gram6-nationality-adjective @5         NaN      0.003127\n",
       "                gram7-past-tense @1               0.003205           NaN\n",
       "                gram7-past-tense @5               0.033333      0.002564\n",
       "                gram8-plural @1                   0.010511      0.000751\n",
       "                gram8-plural @5                   0.093093      0.004505\n",
       "                micro-mean @1                     0.001854      0.000326\n",
       "                micro-mean @5                     0.022685      0.003097\n",
       "                morphological @1                  0.007724      0.000257\n",
       "                morphological @5                  0.084964      0.002575\n",
       "                semantic @1                       0.000115      0.000573\n",
       "                semantic @5                       0.007335      0.004814\n",
       "                syntactic @1                      0.000524      0.000000\n",
       "                syntactic @5                      0.003840      0.000863\n",
       "SimLex999       Assoc(USF)                        0.303414      0.121656\n",
       "                SD(SimLex)                        0.004529      0.004153\n",
       "                SimLex999                         0.290432      0.108370\n",
       "                conc(w1)                          0.003866      0.032516\n",
       "                conc(w2)                         -0.001712      0.033601"
      ]
     },
     "execution_count": 24,
     "metadata": {},
     "output_type": "execute_result"
    }
   ],
   "source": [
    "eval_result.transpose().sort_index()"
   ]
  },
  {
   "cell_type": "code",
   "execution_count": null,
   "metadata": {},
   "outputs": [],
   "source": []
  }
 ],
 "metadata": {
  "kernelspec": {
   "display_name": "Python 3",
   "language": "python",
   "name": "python3"
  },
  "language_info": {
   "codemirror_mode": {
    "name": "ipython",
    "version": 3
   },
   "file_extension": ".py",
   "mimetype": "text/x-python",
   "name": "python",
   "nbconvert_exporter": "python",
   "pygments_lexer": "ipython3",
   "version": "3.6.0"
  },
  "notify_time": "10",
  "toc": {
   "colors": {
    "hover_highlight": "#DAA520",
    "running_highlight": "#FF0000",
    "selected_highlight": "#FFD700"
   },
   "moveMenuLeft": true,
   "nav_menu": {
    "height": "45px",
    "width": "252px"
   },
   "navigate_menu": true,
   "number_sections": true,
   "sideBar": true,
   "threshold": 4,
   "toc_cell": false,
   "toc_section_display": "block",
   "toc_window_display": true
  }
 },
 "nbformat": 4,
 "nbformat_minor": 2
}
